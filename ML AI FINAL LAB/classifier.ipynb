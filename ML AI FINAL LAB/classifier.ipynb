{
  "nbformat": 4,
  "nbformat_minor": 0,
  "metadata": {
    "colab": {
      "provenance": []
    },
    "kernelspec": {
      "name": "python3",
      "display_name": "Python 3"
    },
    "language_info": {
      "name": "python"
    },
    "accelerator": "GPU",
    "gpuClass": "standard"
  },
  "cells": [
    {
      "cell_type": "code",
      "execution_count": null,
      "metadata": {
        "colab": {
          "base_uri": "https://localhost:8080/"
        },
        "id": "Ln3jS2B0wJZp",
        "outputId": "6221a62c-a1ba-4877-ff86-9451ed6fcfff"
      },
      "outputs": [
        {
          "output_type": "stream",
          "name": "stdout",
          "text": [
            "Drive already mounted at /content/drive; to attempt to forcibly remount, call drive.mount(\"/content/drive\", force_remount=True).\n"
          ]
        }
      ],
      "source": [
        "from google.colab import drive\n",
        "drive.mount('/content/drive')\n",
        "     "
      ]
    },
    {
      "cell_type": "code",
      "source": [
        "import zipfile\n",
        "import os\n",
        "import tensorflow as tensf\n",
        "from tensorflow.keras import datasets, layers, models\n",
        "import matplotlib.pyplot as pplot\n",
        "import numpy"
      ],
      "metadata": {
        "id": "7PRWaTDqE1yn"
      },
      "execution_count": null,
      "outputs": []
    },
    {
      "cell_type": "code",
      "source": [
        "zip_ref = zipfile.ZipFile('/content/drive/My Drive/Datasets/CNN_dataset.zip', 'r') #dataset loaded\n",
        "zip_ref.extractall() \n",
        "zip_ref.close()\n",
        "     "
      ],
      "metadata": {
        "id": "t6E0RcryFAbQ"
      },
      "execution_count": null,
      "outputs": []
    },
    {
      "cell_type": "code",
      "source": [
        "from IPython.display import clear_output\n",
        "import skimage\n",
        "from skimage import transform\n",
        "from glob import glob\n",
        "from sklearn import metrics\n",
        "import pandas as pd\n",
        "import seaborn as sn\n",
        "import numpy as nmp\n",
        "from PIL import Image\n",
        "import matplotlib.pyplot as pplot\n",
        "from skimage import io, color\n",
        "import tqdm\n",
        "from skimage.transform import *\n",
        "\n",
        "from sklearn.model_selection import train_test_split\n",
        "from keras.utils import to_categorical\n",
        "\n",
        "import tensorflow as tensf\n",
        "from tensorflow import keras\n",
        "\n",
        "from tensorflow.keras.preprocessing import image\n",
        "from tensorflow.keras.preprocessing.image import ImageDataGenerator\n",
        "from tensorflow.keras.models import Sequential, load_model\n",
        "from tensorflow.keras.optimizers import RMSprop\n",
        "from tensorflow.keras.callbacks import ReduceLROnPlateau\n",
        "from tensorflow.keras.layers import Dense, Flatten, Conv2D, Dropout, MaxPooling2D, AvgPool2D\n",
        "from tensorflow.keras.callbacks import CSVLogger, ModelCheckpoint, ReduceLROnPlateau, EarlyStopping\n"
      ],
      "metadata": {
        "id": "rWColwjqF73i"
      },
      "execution_count": null,
      "outputs": []
    },
    {
      "cell_type": "code",
      "source": [
        "xray_data = []\n",
        "xray_class = []\n",
        "train_xray_data  = []\n",
        "train_xray_class = []\n",
        "test_xray_data  = []\n",
        "test_xray_class = []\n",
        "IMG_SIZE = (32,32)"
      ],
      "metadata": {
        "id": "fdNzjP6YFxHk"
      },
      "execution_count": null,
      "outputs": []
    },
    {
      "cell_type": "code",
      "source": [
        "def collect_data(filepath, label, new_shape):\n",
        "    all_images = glob(filepath)\n",
        "    print(len(all_images))\n",
        "    for item in all_images:\n",
        "        xray_class.append(label)\n",
        "        image = skimage.io.imread(item)\n",
        "        image = color.gray2rgb(image)\n",
        "        image = skimage.transform.resize(image=image, output_shape=new_shape)\n",
        "        xray_data.append(nmp.array(image))"
      ],
      "metadata": {
        "id": "ECQPxV9ZF1jp"
      },
      "execution_count": null,
      "outputs": []
    },
    {
      "cell_type": "code",
      "source": [
        "cc00 = '/content/CNN_dataset/AbdomenCT/*.jpeg'\n",
        "cc11 = '/content/CNN_dataset/ChestCT/*.jpeg'\n",
        "cc22 = '/content/CNN_dataset/CXR/*.jpeg'\n",
        "cc33 = '/content/CNN_dataset/Hand/*.jpeg'\n",
        "cc44 = '/content/CNN_dataset/HeadCT/*.jpeg'"
      ],
      "metadata": {
        "id": "11NFcA2ZGS0G"
      },
      "execution_count": null,
      "outputs": []
    },
    {
      "cell_type": "code",
      "source": [
        "classes_path_list = [cc00,cc11,cc22,cc33,cc44]\n",
        "xray_data.clear()\n",
        "xray_class.clear()\n",
        "for i in range(len(classes_path_list)):\n",
        "    collect_data(classes_path_list[i], i, IMG_SIZE)"
      ],
      "metadata": {
        "colab": {
          "base_uri": "https://localhost:8080/"
        },
        "id": "NvQYiH9FGvmu",
        "outputId": "b1b7cf75-e7a7-443b-b47a-f92f22551336"
      },
      "execution_count": null,
      "outputs": [
        {
          "output_type": "stream",
          "name": "stdout",
          "text": [
            "10000\n",
            "10000\n",
            "10000\n",
            "10000\n",
            "10000\n"
          ]
        }
      ]
    },
    {
      "cell_type": "code",
      "source": [
        "xray_data[1].shape"
      ],
      "metadata": {
        "colab": {
          "base_uri": "https://localhost:8080/"
        },
        "id": "lJ1PjRK6HUZv",
        "outputId": "58a2644b-6b3b-4644-e4bb-6fa9c6e6ca07"
      },
      "execution_count": null,
      "outputs": [
        {
          "output_type": "execute_result",
          "data": {
            "text/plain": [
              "(32, 32, 3)"
            ]
          },
          "metadata": {},
          "execution_count": 27
        }
      ]
    },
    {
      "cell_type": "code",
      "source": [
        "pplot.imshow(xray_data[11])"
      ],
      "metadata": {
        "colab": {
          "base_uri": "https://localhost:8080/",
          "height": 283
        },
        "id": "ryYXA2w4HaRJ",
        "outputId": "0e1bf35f-1e18-4e18-c9a2-367f82eac023"
      },
      "execution_count": null,
      "outputs": [
        {
          "output_type": "execute_result",
          "data": {
            "text/plain": [
              "<matplotlib.image.AxesImage at 0x7fe9be536b80>"
            ]
          },
          "metadata": {},
          "execution_count": 28
        },
        {
          "output_type": "display_data",
          "data": {
            "text/plain": [
              "<Figure size 432x288 with 1 Axes>"
            ],
            "image/png": "[encoded data removed]"
          },
          "metadata": {
            "needs_background": "light"
          }
        }
      ]
    },
    {
      "cell_type": "code",
      "source": [
        "pplot.imshow(xray_data[11110])"
      ],
      "metadata": {
        "colab": {
          "base_uri": "https://localhost:8080/",
          "height": 283
        },
        "id": "86SxezanPzJ6",
        "outputId": "b235db25-680c-496d-d839-b419817f5240"
      },
      "execution_count": null,
      "outputs": [
        {
          "output_type": "execute_result",
          "data": {
            "text/plain": [
              "<matplotlib.image.AxesImage at 0x7fe928134610>"
            ]
          },
          "metadata": {},
          "execution_count": 47
        },
        {
          "output_type": "display_data",
          "data": {
            "text/plain": [
              "<Figure size 432x288 with 1 Axes>"
            ],
            "image/png": "[encoded data removed]"
          },
          "metadata": {
            "needs_background": "light"
          }
        }
      ]
    },
    {
      "cell_type": "code",
      "source": [
        "pplot.imshow(xray_data[21106])"
      ],
      "metadata": {
        "colab": {
          "base_uri": "https://localhost:8080/",
          "height": 283
        },
        "id": "1inf7BmmONn6",
        "outputId": "e860b3d2-f5f2-479b-ecd2-0a68ab627bfe"
      },
      "execution_count": null,
      "outputs": [
        {
          "output_type": "execute_result",
          "data": {
            "text/plain": [
              "<matplotlib.image.AxesImage at 0x7fe9bdf7efd0>"
            ]
          },
          "metadata": {},
          "execution_count": 39
        },
        {
          "output_type": "display_data",
          "data": {
            "text/plain": [
              "<Figure size 432x288 with 1 Axes>"
            ],
            "image/png": "[encoded data removed]"
          },
          "metadata": {
            "needs_background": "light"
          }
        }
      ]
    },
    {
      "cell_type": "code",
      "source": [
        "pplot.imshow(xray_data[31105])"
      ],
      "metadata": {
        "colab": {
          "base_uri": "https://localhost:8080/",
          "height": 283
        },
        "id": "5bMzxOlmPm1w",
        "outputId": "acfb60fd-9dbf-4c23-e999-5a11b216b2fc"
      },
      "execution_count": null,
      "outputs": [
        {
          "output_type": "execute_result",
          "data": {
            "text/plain": [
              "<matplotlib.image.AxesImage at 0x7fe928095a60>"
            ]
          },
          "metadata": {},
          "execution_count": 40
        },
        {
          "output_type": "display_data",
          "data": {
            "text/plain": [
              "<Figure size 432x288 with 1 Axes>"
            ],
            "image/png": "[encoded data removed]"
          },
          "metadata": {
            "needs_background": "light"
          }
        }
      ]
    },
    {
      "cell_type": "code",
      "source": [
        "pplot.imshow(xray_data[42206])"
      ],
      "metadata": {
        "colab": {
          "base_uri": "https://localhost:8080/",
          "height": 283
        },
        "id": "kIL9-RZhPo4U",
        "outputId": "f600b072-15d7-4a95-c233-fd8ae7dd64b1"
      },
      "execution_count": null,
      "outputs": [
        {
          "output_type": "execute_result",
          "data": {
            "text/plain": [
              "<matplotlib.image.AxesImage at 0x7fe98c054b80>"
            ]
          },
          "metadata": {},
          "execution_count": 41
        },
        {
          "output_type": "display_data",
          "data": {
            "text/plain": [
              "<Figure size 432x288 with 1 Axes>"
            ],
            "image/png": "[encoded data removed]"
          },
          "metadata": {
            "needs_background": "light"
          }
        }
      ]
    },
    {
      "cell_type": "code",
      "source": [
        "X_train, X_test, y_train, y_test = train_test_split(xray_data, to_categorical(nmp.array(xray_class)), test_size = 0.20)"
      ],
      "metadata": {
        "id": "rNdV6a3oH_H_"
      },
      "execution_count": null,
      "outputs": []
    },
    {
      "cell_type": "code",
      "source": [
        "model = tensf.keras.Sequential()\n",
        "model.add(Conv2D(filters=64, kernel_size=(2,2),strides=(1, 1), padding='same', activation='relu', input_shape=(32,32,3))) \n",
        "model.add(MaxPooling2D(pool_size=(2,2)))\n",
        "model.add(Dropout(0.3))\n",
        "model.add(Conv2D(filters=32, kernel_size=(2,2),strides=(1, 1), padding='same', activation='relu'))\n",
        "model.add(MaxPooling2D(pool_size=(2,2)))\n",
        "model.add(Dropout(0.3))\n",
        "model.add(Flatten())\n",
        "model.add(Dense(256, activation='relu'))\n",
        "model.add(Dropout(0.5))\n",
        "model.add(Dense(5, activation='softmax'))\n",
        "model.summary()"
      ],
      "metadata": {
        "colab": {
          "base_uri": "https://localhost:8080/"
        },
        "id": "PbbvDeKRKKH2",
        "outputId": "27022a0a-69ad-47ae-8d73-4ee22b29a2ba"
      },
      "execution_count": null,
      "outputs": [
        {
          "output_type": "stream",
          "name": "stdout",
          "text": [
            "Model: \"sequential_2\"\n",
            "_________________________________________________________________\n",
            " Layer (type)                Output Shape              Param #   \n",
            "=================================================================\n",
            " conv2d_4 (Conv2D)           (None, 32, 32, 64)        832       \n",
            "                                                                 \n",
            " max_pooling2d_4 (MaxPooling  (None, 16, 16, 64)       0         \n",
            " 2D)                                                             \n",
            "                                                                 \n",
            " dropout_6 (Dropout)         (None, 16, 16, 64)        0         \n",
            "                                                                 \n",
            " conv2d_5 (Conv2D)           (None, 16, 16, 32)        8224      \n",
            "                                                                 \n",
            " max_pooling2d_5 (MaxPooling  (None, 8, 8, 32)         0         \n",
            " 2D)                                                             \n",
            "                                                                 \n",
            " dropout_7 (Dropout)         (None, 8, 8, 32)          0         \n",
            "                                                                 \n",
            " flatten_2 (Flatten)         (None, 2048)              0         \n",
            "                                                                 \n",
            " dense_4 (Dense)             (None, 256)               524544    \n",
            "                                                                 \n",
            " dropout_8 (Dropout)         (None, 256)               0         \n",
            "                                                                 \n",
            " dense_5 (Dense)             (None, 5)                 1285      \n",
            "                                                                 \n",
            "=================================================================\n",
            "Total params: 534,885\n",
            "Trainable params: 534,885\n",
            "Non-trainable params: 0\n",
            "_________________________________________________________________\n"
          ]
        }
      ]
    },
    {
      "cell_type": "code",
      "source": [
        "model.compile(loss='categorical_crossentropy', optimizer='adam', metrics=['accuracy'])"
      ],
      "metadata": {
        "id": "JcnVPtUHLHfx"
      },
      "execution_count": null,
      "outputs": []
    },
    {
      "cell_type": "code",
      "source": [
        "model_log = model.fit(nmp.array(X_train), y_train,\n",
        "          batch_size=64,\n",
        "          epochs=10,\n",
        "          verbose=1,\n",
        "          validation_split=.1)"
      ],
      "metadata": {
        "colab": {
          "base_uri": "https://localhost:8080/"
        },
        "id": "iAxLJ5aULNCT",
        "outputId": "f2af7054-42fa-436a-8b38-4ad39d70210d"
      },
      "execution_count": null,
      "outputs": [
        {
          "output_type": "stream",
          "name": "stdout",
          "text": [
            "Epoch 1/10\n",
            "563/563 [==============================] - 5s 6ms/step - loss: 0.1122 - accuracy: 0.9648 - val_loss: 0.0085 - val_accuracy: 0.9977\n",
            "Epoch 2/10\n",
            "563/563 [==============================] - 3s 6ms/step - loss: 0.0158 - accuracy: 0.9958 - val_loss: 0.0057 - val_accuracy: 0.9990\n",
            "Epoch 3/10\n",
            "563/563 [==============================] - 4s 7ms/step - loss: 0.0091 - accuracy: 0.9974 - val_loss: 0.0043 - val_accuracy: 0.9985\n",
            "Epoch 4/10\n",
            "563/563 [==============================] - 3s 6ms/step - loss: 0.0083 - accuracy: 0.9975 - val_loss: 0.0059 - val_accuracy: 0.9983\n",
            "Epoch 5/10\n",
            "563/563 [==============================] - 3s 6ms/step - loss: 0.0066 - accuracy: 0.9982 - val_loss: 0.0030 - val_accuracy: 0.9987\n",
            "Epoch 6/10\n",
            "563/563 [==============================] - 3s 6ms/step - loss: 0.0095 - accuracy: 0.9970 - val_loss: 0.0309 - val_accuracy: 0.9930\n",
            "Epoch 7/10\n",
            "563/563 [==============================] - 4s 7ms/step - loss: 0.0072 - accuracy: 0.9979 - val_loss: 0.0034 - val_accuracy: 0.9985\n",
            "Epoch 8/10\n",
            "563/563 [==============================] - 3s 6ms/step - loss: 0.0043 - accuracy: 0.9986 - val_loss: 0.0016 - val_accuracy: 0.9995\n",
            "Epoch 9/10\n",
            "563/563 [==============================] - 3s 6ms/step - loss: 0.0024 - accuracy: 0.9993 - val_loss: 0.0045 - val_accuracy: 0.9992\n",
            "Epoch 10/10\n",
            "563/563 [==============================] - 4s 6ms/step - loss: 0.0035 - accuracy: 0.9987 - val_loss: 0.0011 - val_accuracy: 0.9998\n"
          ]
        }
      ]
    },
    {
      "cell_type": "code",
      "source": [
        "print(\"Accuracy Final: {:.2f}%\".format(model.evaluate(nmp.array(X_test), nmp.array(y_test))[1]*100)) #result"
      ],
      "metadata": {
        "colab": {
          "base_uri": "https://localhost:8080/"
        },
        "id": "OddRhCqlMslz",
        "outputId": "a1be36cf-765b-4635-a792-4e9de0ef691f"
      },
      "execution_count": null,
      "outputs": [
        {
          "output_type": "stream",
          "name": "stdout",
          "text": [
            "313/313 [==============================] - 1s 4ms/step - loss: 0.0017 - accuracy: 0.9993\n",
            "Test_Accuracy: 99.93%\n"
          ]
        }
      ]
    }
  ]
}